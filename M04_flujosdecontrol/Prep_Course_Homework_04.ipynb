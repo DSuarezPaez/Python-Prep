{
 "cells": [
  {
   "attachments": {},
   "cell_type": "markdown",
   "metadata": {},
   "source": [
    "## Flujos de Control"
   ]
  },
  {
   "attachments": {},
   "cell_type": "markdown",
   "metadata": {},
   "source": [
    "1) Crear una variable que contenga un elemento del conjunto de números enteros y luego imprimir por pantalla si es mayor o menor a cero"
   ]
  },
  {
   "cell_type": "code",
   "execution_count": 11,
   "metadata": {},
   "outputs": [
    {
     "name": "stdout",
     "output_type": "stream",
     "text": [
      "la variable es mayor a cero\n"
     ]
    }
   ],
   "source": [
    "variable = 20\n",
    "if variable < 0:\n",
    "    print('la variable es menor a cero')\n",
    "elif variable > 0:\n",
    "    print('la variable es mayor a cero')\n",
    "else:\n",
    "    print('es igual a cero')"
   ]
  },
  {
   "attachments": {},
   "cell_type": "markdown",
   "metadata": {},
   "source": [
    "2) Crear dos variables y un condicional que informe si son del mismo tipo de dato"
   ]
  },
  {
   "cell_type": "code",
   "execution_count": 7,
   "metadata": {},
   "outputs": [
    {
     "name": "stdout",
     "output_type": "stream",
     "text": [
      "False\n"
     ]
    }
   ],
   "source": [
    "var1 = 20\n",
    "var2 = 'py'\n",
    "\n",
    "\n",
    "if type(var1) == type(var2):\n",
    "    print(True)\n",
    "else:\n",
    "    print(False)"
   ]
  },
  {
   "attachments": {},
   "cell_type": "markdown",
   "metadata": {},
   "source": [
    "3) Para los valores enteros del 1 al 20, imprimir por pantalla si es par o impar"
   ]
  },
  {
   "cell_type": "code",
   "execution_count": 9,
   "metadata": {},
   "outputs": [
    {
     "name": "stdout",
     "output_type": "stream",
     "text": [
      "1 es un numero impar\n",
      "2 es un numero par\n",
      "3 es un numero impar\n",
      "4 es un numero par\n",
      "5 es un numero impar\n",
      "6 es un numero par\n",
      "7 es un numero impar\n",
      "8 es un numero par\n",
      "9 es un numero impar\n",
      "10 es un numero par\n",
      "11 es un numero impar\n",
      "12 es un numero par\n",
      "13 es un numero impar\n",
      "14 es un numero par\n",
      "15 es un numero impar\n",
      "16 es un numero par\n",
      "17 es un numero impar\n",
      "18 es un numero par\n",
      "19 es un numero impar\n",
      "20 es un numero par\n"
     ]
    }
   ],
   "source": [
    "\n",
    "for i in range(1,20+1):\n",
    "    if i % 2 == 0:\n",
    "        print(i, 'es un numero par')\n",
    "    else:\n",
    "        print(i, 'es un numero impar')"
   ]
  },
  {
   "attachments": {},
   "cell_type": "markdown",
   "metadata": {},
   "source": [
    "4) En un ciclo for mostrar para los valores entre 0 y 5 el resultado de elevarlo a la potencia igual a 3"
   ]
  },
  {
   "cell_type": "code",
   "execution_count": 12,
   "metadata": {},
   "outputs": [
    {
     "name": "stdout",
     "output_type": "stream",
     "text": [
      "el numero:  0 elevado a ala 3ra potnecia es:  0\n",
      "el numero:  1 elevado a ala 3ra potnecia es:  1\n",
      "el numero:  2 elevado a ala 3ra potnecia es:  8\n",
      "el numero:  3 elevado a ala 3ra potnecia es:  27\n",
      "el numero:  4 elevado a ala 3ra potnecia es:  64\n",
      "el numero:  5 elevado a ala 3ra potnecia es:  125\n"
     ]
    }
   ],
   "source": [
    "for i in range(6):\n",
    "    print('el numero: ', i, 'elevado a ala 3ra potnecia es: ', i**3)"
   ]
  },
  {
   "attachments": {},
   "cell_type": "markdown",
   "metadata": {},
   "source": [
    "5) Crear una variable que contenga un número entero y realizar un ciclo for la misma cantidad de ciclos"
   ]
  },
  {
   "cell_type": "code",
   "execution_count": 15,
   "metadata": {},
   "outputs": [
    {
     "name": "stdout",
     "output_type": "stream",
     "text": [
      "0\n",
      "1\n",
      "2\n",
      "3\n",
      "4\n",
      "5\n"
     ]
    }
   ],
   "source": [
    "numero = 6\n",
    "for i in range(0, numero):\n",
    "    print(i)"
   ]
  },
  {
   "attachments": {},
   "cell_type": "markdown",
   "metadata": {},
   "source": [
    "6) Utilizar un ciclo while para realizar el factorial de un número guardado en una variable, sólo si la variable contiene un número entero mayor a 0"
   ]
  },
  {
   "cell_type": "code",
   "execution_count": 24,
   "metadata": {},
   "outputs": [
    {
     "name": "stdout",
     "output_type": "stream",
     "text": [
      "El factorial es 24\n"
     ]
    }
   ],
   "source": [
    "num = 4\n",
    "if type(num) == int:\n",
    "   \n",
    "    if num > 0:\n",
    "             \n",
    "        factorial = num\n",
    "        while (num > 2):\n",
    "            num = num - 1\n",
    "            factorial = factorial * num\n",
    "        print('El factorial es', factorial)\n",
    "\n",
    "    else:\n",
    "        print('el numero es menor que cero')\n",
    "\n",
    "else:\n",
    "    print('el numero no es un entero')"
   ]
  },
  {
   "attachments": {},
   "cell_type": "markdown",
   "metadata": {},
   "source": [
    "7) Crear un ciclo for dentro de un ciclo while"
   ]
  },
  {
   "cell_type": "code",
   "execution_count": 39,
   "metadata": {},
   "outputs": [
    {
     "name": "stdout",
     "output_type": "stream",
     "text": [
      "ciclo while numero  1\n",
      "for loop number  1\n",
      "ciclo while numero  2\n",
      "for loop number  1\n",
      "for loop number  2\n",
      "ciclo while numero  3\n",
      "for loop number  1\n",
      "for loop number  2\n",
      "for loop number  3\n",
      "ciclo while numero  4\n",
      "for loop number  1\n",
      "for loop number  2\n",
      "for loop number  3\n",
      "for loop number  4\n"
     ]
    }
   ],
   "source": [
    "n = 1\n",
    "while n < 5:\n",
    "    print('ciclo while numero ', n)\n",
    "    for i in range(1, n+1):\n",
    "        print('for loop number ', i)\n",
    "    n += 1"
   ]
  },
  {
   "attachments": {},
   "cell_type": "markdown",
   "metadata": {},
   "source": [
    "8) Crear un ciclo while dentro de un ciclo for"
   ]
  },
  {
   "cell_type": "code",
   "execution_count": 53,
   "metadata": {},
   "outputs": [
    {
     "name": "stdout",
     "output_type": "stream",
     "text": [
      "for loop number  1\n",
      "ciclo while numero  5\n",
      "ciclo while numero  4\n",
      "ciclo while numero  3\n",
      "ciclo while numero  2\n",
      "ciclo while numero  1\n",
      "for loop number  2\n",
      "ciclo while numero  5\n",
      "ciclo while numero  4\n",
      "ciclo while numero  3\n",
      "ciclo while numero  2\n",
      "ciclo while numero  1\n",
      "for loop number  3\n",
      "ciclo while numero  5\n",
      "ciclo while numero  4\n",
      "ciclo while numero  3\n",
      "ciclo while numero  2\n",
      "ciclo while numero  1\n",
      "for loop number  4\n",
      "ciclo while numero  5\n",
      "ciclo while numero  4\n",
      "ciclo while numero  3\n",
      "ciclo while numero  2\n",
      "ciclo while numero  1\n"
     ]
    }
   ],
   "source": [
    "n = 5\n",
    "for i in range(1, n):\n",
    "    print('for loop number ', i)\n",
    "    i += 1\n",
    "    n2 = n\n",
    "    while n2 > 0:\n",
    "        print('ciclo while numero ', n2)\n",
    "        n2 -= 1"
   ]
  },
  {
   "attachments": {},
   "cell_type": "markdown",
   "metadata": {},
   "source": [
    "9) Imprimir los números primos existentes entre 0 y 30"
   ]
  },
  {
   "cell_type": "code",
   "execution_count": 60,
   "metadata": {},
   "outputs": [
    {
     "name": "stdout",
     "output_type": "stream",
     "text": [
      "0\n",
      "1\n",
      "2\n",
      "3\n",
      "5\n",
      "7\n",
      "11\n",
      "13\n",
      "17\n",
      "19\n",
      "23\n",
      "29\n"
     ]
    },
    {
     "data": {
      "text/plain": [
       "'\\ntope_rango=30\\nn = 0\\nprimo = True\\nwhile (n < tope_rango):\\n    for div in range(2, n):\\n        if (n % div == 0):\\n            primo = False\\n    if (primo):\\n        print(n)\\n    else:\\n        primo = True\\n    n += 1\\n'"
      ]
     },
     "execution_count": 60,
     "metadata": {},
     "output_type": "execute_result"
    }
   ],
   "source": [
    "n1 = 0\n",
    "n2 = 30\n",
    "primo = True\n",
    "while n1 < n2:\n",
    "    for div in range(2, n1):\n",
    "        if n1 % div == 0:\n",
    "            primo = False\n",
    "    if primo:\n",
    "        print(n1)\n",
    "    else:\n",
    "        primo = True\n",
    "    n1 += 1            \n"
   ]
  },
  {
   "attachments": {},
   "cell_type": "markdown",
   "metadata": {},
   "source": [
    "10) ¿Se puede mejorar el proceso del punto 9? Utilizar las sentencias break y/ó continue para tal fin"
   ]
  },
  {
   "cell_type": "code",
   "execution_count": 73,
   "metadata": {},
   "outputs": [
    {
     "name": "stdout",
     "output_type": "stream",
     "text": [
      "0\n",
      "1\n",
      "2\n",
      "3\n",
      "5\n",
      "7\n",
      "11\n",
      "13\n",
      "17\n",
      "19\n",
      "23\n",
      "29\n",
      "numero de ciclos con brake: 134\n"
     ]
    }
   ],
   "source": [
    "ciclos_break = 0\n",
    "n1 = 0\n",
    "n2 = 30\n",
    "primo = True\n",
    "while n1 < n2:\n",
    "    for div in range(2, n1):\n",
    "        ciclos_break += 1\n",
    "        if n1 % div == 0:\n",
    "            primo = False\n",
    "            break\n",
    "    if primo:\n",
    "        print(n1)\n",
    "    else:\n",
    "        primo = True\n",
    "    n1 += 1\n",
    "print('numero de ciclos con brake:', str(ciclos_break))    "
   ]
  },
  {
   "attachments": {},
   "cell_type": "markdown",
   "metadata": {},
   "source": [
    "11) En los puntos 9 y 10, se diseño un código que encuentra números primos y además se lo optimizó. ¿Es posible saber en qué medida se optimizó?"
   ]
  },
  {
   "cell_type": "code",
   "execution_count": 71,
   "metadata": {},
   "outputs": [
    {
     "name": "stdout",
     "output_type": "stream",
     "text": [
      "0\n",
      "1\n",
      "2\n",
      "3\n",
      "5\n",
      "7\n",
      "11\n",
      "13\n",
      "17\n",
      "19\n",
      "23\n",
      "29\n",
      "numero de ciclo: 378\n"
     ]
    }
   ],
   "source": [
    "ciclos_no_break = 0\n",
    "n1 = 0\n",
    "n2 = 30\n",
    "primo = True\n",
    "while n1 < n2:\n",
    "    for div in range(2, n1):\n",
    "        ciclos_no_break += 1\n",
    "        if n1 % div == 0:\n",
    "            primo = False\n",
    "    if primo:\n",
    "        print(n1)\n",
    "    else:\n",
    "        primo = True\n",
    "    n1 += 1\n",
    "print('numero de ciclo:', str(ciclos_no_break)) \n"
   ]
  },
  {
   "attachments": {},
   "cell_type": "markdown",
   "metadata": {},
   "source": [
    "12) Si la cantidad de números que se evalúa es mayor a treinta, esa optimización crece?"
   ]
  },
  {
   "cell_type": "code",
   "execution_count": 80,
   "metadata": {},
   "outputs": [
    {
     "name": "stdout",
     "output_type": "stream",
     "text": [
      "0\n",
      "1\n",
      "2\n",
      "3\n",
      "5\n",
      "7\n",
      "11\n",
      "13\n",
      "17\n",
      "19\n",
      "23\n",
      "29\n",
      "numero de ciclo: 134\n",
      "numero de ciclo: 378\n",
      "la optimizacion es de 0.3544973544973545 %\n"
     ]
    }
   ],
   "source": [
    "ciclos_no_break = 0\n",
    "n1 = 0\n",
    "n2 = 30\n",
    "primo = True\n",
    "while n1 < n2:\n",
    "    for div in range(2, n1):\n",
    "        ciclos_no_break += 1\n",
    "        if n1 % div == 0:\n",
    "            primo = False\n",
    "    if primo:\n",
    "        print(n1)\n",
    "    else:\n",
    "        primo = True\n",
    "    n1 += 1\n",
    "print('numero de ciclo:', str(ciclos_break))     \n",
    "print('numero de ciclo:', str(ciclos_no_break))\n",
    "print('la optimizacion es de', (ciclos_break)/(ciclos_no_break),'%')"
   ]
  },
  {
   "attachments": {},
   "cell_type": "markdown",
   "metadata": {},
   "source": [
    "13) Aplicando continue, armar un ciclo while que solo imprima los valores divisibles por 12, dentro del rango de números de 100 a 300"
   ]
  },
  {
   "cell_type": "code",
   "execution_count": 17,
   "metadata": {},
   "outputs": [
    {
     "name": "stdout",
     "output_type": "stream",
     "text": [
      "el numero 108 es divisible entre 12\n",
      "el numero 120 es divisible entre 12\n",
      "el numero 132 es divisible entre 12\n",
      "el numero 144 es divisible entre 12\n",
      "el numero 156 es divisible entre 12\n",
      "el numero 168 es divisible entre 12\n",
      "el numero 180 es divisible entre 12\n",
      "el numero 192 es divisible entre 12\n",
      "el numero 204 es divisible entre 12\n",
      "el numero 216 es divisible entre 12\n",
      "el numero 228 es divisible entre 12\n",
      "el numero 240 es divisible entre 12\n",
      "el numero 252 es divisible entre 12\n",
      "el numero 264 es divisible entre 12\n",
      "el numero 276 es divisible entre 12\n",
      "el numero 288 es divisible entre 12\n",
      "el numero 300 es divisible entre 12\n"
     ]
    }
   ],
   "source": [
    "f = 300\n",
    "d = 12\n",
    "i = 100\n",
    "while i <= f:\n",
    "    if i % d != 0:\n",
    "        i += 1\n",
    "        continue\n",
    "    else:\n",
    "        print('el numero', i, 'es divisible entre 12')\n",
    "        i += 1\n",
    "    "
   ]
  },
  {
   "attachments": {},
   "cell_type": "markdown",
   "metadata": {},
   "source": [
    "14) Utilizar la función **input()** que permite hacer ingresos por teclado, para encontrar números primos y dar la opción al usario de buscar el siguiente"
   ]
  },
  {
   "cell_type": "code",
   "execution_count": 44,
   "metadata": {},
   "outputs": [
    {
     "name": "stdout",
     "output_type": "stream",
     "text": [
      "si es primo\n"
     ]
    }
   ],
   "source": [
    "\n",
    "n = int(input())\n",
    "for i in range(2, n):\n",
    "    if (n%i) == 0:\n",
    "        primo = False\n",
    "        print('no es primo, intente de nuevo')\n",
    "        break\n",
    "    else:\n",
    "        primo = True\n",
    "        print('si es primo')\n",
    "        break"
   ]
  },
  {
   "attachments": {},
   "cell_type": "markdown",
   "metadata": {},
   "source": [
    "15) Crear un ciclo while que encuentre dentro del rango de 100 a 300 el primer número divisible por 3 y además múltiplo de 6"
   ]
  },
  {
   "cell_type": "code",
   "execution_count": 55,
   "metadata": {},
   "outputs": [
    {
     "name": "stdout",
     "output_type": "stream",
     "text": [
      "el numero encontrado es: 102\n"
     ]
    }
   ],
   "source": [
    "i = 100\n",
    "f = 300\n",
    "while i <= f:\n",
    "    if (i % 3 == 0) and (i % 6 == 0):\n",
    "        print('el numero encontrado es:', i)\n",
    "        break\n",
    "    i += 1"
   ]
  }
 ],
 "metadata": {
  "interpreter": {
   "hash": "c85384e4cb51c8b72350f3a8712cc8351fdc3955e32a27f9b60c6242ab125f01"
  },
  "kernelspec": {
   "display_name": "Python 3 (ipykernel)",
   "language": "python",
   "name": "python3"
  },
  "language_info": {
   "codemirror_mode": {
    "name": "ipython",
    "version": 3
   },
   "file_extension": ".py",
   "mimetype": "text/x-python",
   "name": "python",
   "nbconvert_exporter": "python",
   "pygments_lexer": "ipython3",
   "version": "3.11.4"
  }
 },
 "nbformat": 4,
 "nbformat_minor": 4
}
