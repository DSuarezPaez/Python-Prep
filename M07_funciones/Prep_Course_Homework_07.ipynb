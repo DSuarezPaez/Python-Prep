{
 "cells": [
  {
   "attachments": {},
   "cell_type": "markdown",
   "metadata": {},
   "source": [
    "## Funciones"
   ]
  },
  {
   "attachments": {},
   "cell_type": "markdown",
   "metadata": {},
   "source": [
    "1) Crear una función que reciba un número como parámetro y devuelva True si es primo y False si no lo es"
   ]
  },
  {
   "cell_type": "code",
   "execution_count": 36,
   "metadata": {},
   "outputs": [
    {
     "name": "stdout",
     "output_type": "stream",
     "text": [
      "False\n"
     ]
    }
   ],
   "source": [
    "def es_primo(n):\n",
    "    \"\"\"La funcion 'es_primo' realiza el cálculo correspondiente\n",
    "      para determinar si un numero es primo (True) o no (False)\"\"\"\n",
    "    if n < 2:\n",
    "        return False\n",
    "    primo = True\n",
    "    for i in range(2, n):\n",
    "        if n % i == 0:\n",
    "            primo = False\n",
    "            break\n",
    "    return primo\n",
    "print(es_primo(6))\n",
    "    \n"
   ]
  },
  {
   "attachments": {},
   "cell_type": "markdown",
   "metadata": {},
   "source": [
    "2) Utilizando la función del punto 1, realizar otra función que reciba de parámetro una lista de números y devuelva sólo aquellos que son primos en otra lista"
   ]
  },
  {
   "cell_type": "code",
   "execution_count": 37,
   "metadata": {},
   "outputs": [
    {
     "name": "stdout",
     "output_type": "stream",
     "text": [
      "[2, 3, 5, 7, 11, 13, 17, 19]\n"
     ]
    }
   ],
   "source": [
    "def extrae_primos(lista):\n",
    "    lista_primos = []  \n",
    "    for elemento in lista:  \n",
    "        if es_primo(int(elemento)):  \n",
    "            lista_primos.append(elemento)  \n",
    "    return lista_primos \n",
    "\n",
    "lista_comp = [1,2,3,4,5,6,7,8,9,10,11,12,13,14,15,16,17,18,19,20]\n",
    "lista_primos = extrae_primos(lista_comp)\n",
    "print(lista_primos)"
   ]
  },
  {
   "attachments": {},
   "cell_type": "markdown",
   "metadata": {},
   "source": [
    "3) Crear una función que al recibir una lista de números, devuelva el que más se repite y cuántas veces lo hace. Si hay más de un \"más repetido\", que devuelva cualquiera"
   ]
  },
  {
   "cell_type": "code",
   "execution_count": 49,
   "metadata": {},
   "outputs": [
    {
     "name": "stdout",
     "output_type": "stream",
     "text": [
      "(5, 7)\n"
     ]
    }
   ],
   "source": [
    "def mas_repeticiones(lista):\n",
    "    lis_unicos = []\n",
    "    lis_repeticiones = []\n",
    "    if len(lista) == 0:\n",
    "        return None\n",
    "    for elemento in lista:\n",
    "        if elemento in lis_unicos:\n",
    "            i = lis_unicos.index(elemento)\n",
    "            lis_repeticiones[i] += 1\n",
    "        else:\n",
    "            lis_unicos.append(elemento)\n",
    "            lis_repeticiones.append(1)\n",
    "    rep = lis_unicos[0]\n",
    "    maximo = lis_repeticiones[0]\n",
    "    for i, elemento in enumerate(lis_unicos):\n",
    "        if lis_repeticiones[i] > maximo:\n",
    "            rep = lis_unicos[i]\n",
    "            maximo = lis_repeticiones[i]\n",
    "    return rep, maximo\n",
    "lista_x = [2,2,2,5,4,4,5,6,3,3,3,6,5,5,4,4,6,6,8,4,1,2,5,7,8,9,6,3,2,1,4,5,7,8,4,1,2,3,5,8,1,6,1]\n",
    "print(mas_repeticiones(lista_x))"
   ]
  },
  {
   "attachments": {},
   "cell_type": "markdown",
   "metadata": {},
   "source": [
    "4) A la función del punto 3, agregar un parámetro más, que permita elegir si se requiere el menor o el mayor de los mas repetidos."
   ]
  },
  {
   "cell_type": "code",
   "execution_count": 63,
   "metadata": {},
   "outputs": [
    {
     "name": "stdout",
     "output_type": "stream",
     "text": [
      "el numero que mas se repite es 9 y se encuentra 8 veces\n"
     ]
    }
   ],
   "source": [
    "def mas_repeticiones(lista, menor):\n",
    "    lis_unicos = []\n",
    "    lis_repeticiones = []\n",
    "    if len(lista) == 0:\n",
    "        return None\n",
    "    if (menor):\n",
    "        lista.sort()\n",
    "    else:\n",
    "        lista.sort(reverse=True)\n",
    "    for elemento in lista:\n",
    "        if elemento in lis_unicos:\n",
    "            i = lis_unicos.index(elemento)\n",
    "            lis_repeticiones[i] += 1\n",
    "        else:\n",
    "            lis_unicos.append(elemento)\n",
    "            lis_repeticiones.append(1)\n",
    "    rep = lis_unicos[0]\n",
    "    maximo = lis_repeticiones[0]\n",
    "    for i, elemento in enumerate(lis_unicos):\n",
    "        if lis_repeticiones[i] > maximo:\n",
    "            rep = lis_unicos[i]\n",
    "            maximo = lis_repeticiones[i]\n",
    "    return rep, maximo\n",
    "lista_x = [1,1,1,1,1,1,1,1,2,3,4,5,6,7,8,9,9,9,9,9,9,9,9]\n",
    "repeticiones, tantos = mas_repeticiones(lista_x, False)\n",
    "print('el numero que mas se repite es', repeticiones, 'y se encuentra', tantos, 'veces')"
   ]
  },
  {
   "attachments": {},
   "cell_type": "markdown",
   "metadata": {},
   "source": [
    "5) Crear una función que convierta entre grados Celsius, Farenheit y Kelvin<br>\n",
    "Fórmula 1\t: (°C × 9/5) + 32 = °F<br>\n",
    "Fórmula 2\t: °C + 273.15 = °K<br>\n",
    "Debe recibir 3 parámetros: el valor, la medida de orígen y la medida de destino\n"
   ]
  },
  {
   "cell_type": "code",
   "execution_count": 79,
   "metadata": {},
   "outputs": [
    {
     "name": "stdout",
     "output_type": "stream",
     "text": [
      "23 grados celsius es equivalentes a 73.4 grados farenheit\n",
      "23 grados celsius es equivalentes a 296.1 grados kelvin\n",
      "79 grados farenheit es equivalentes a 26.1 grados celsius\n",
      "79 grados farenheit es equivalentes a 299.3 grados kelvin\n",
      "300 grados kelvin es equivalentes a 26.9 grados celsius\n",
      "300 grados kelvin es equivalentes a 80.3 grados farenheit\n"
     ]
    }
   ],
   "source": [
    "\n",
    "\n",
    "def conversion(grados, entrada, salida):\n",
    "    if entrada == 'celsius':\n",
    "        if salida == 'farenheit':\n",
    "            convert = (grados * 9/5) + 32\n",
    "            return round(convert,1)\n",
    "        elif salida == 'kelvin':\n",
    "            convert = grados + 273.15\n",
    "            return round(convert,1)\n",
    "    elif entrada == 'farenheit':\n",
    "        if salida == 'celsius':\n",
    "            convert = (grados - 32) / (9/5)\n",
    "            return round(convert,1)\n",
    "        elif salida == 'kelvin':\n",
    "            convert = ((grados - 32) / (9/5)) + 273.15\n",
    "            return round(convert,1)\n",
    "    elif entrada == 'kelvin':\n",
    "        if salida == 'celsius':\n",
    "            convert = grados - 273.15\n",
    "            return round(convert,1)\n",
    "        elif salida == 'farenheit':\n",
    "            convert = ((grados - 273.15) * (9/5)) + 32\n",
    "            return round(convert,1)\n",
    "    else:\n",
    "        print('ha ingresado una entrada/salida incorrecta')\n",
    "\n",
    "grados_c = 23\n",
    "grados_f = 79\n",
    "grados_k = 300\n",
    "\n",
    "c1 = conversion(grados_c, 'celsius', 'farenheit')\n",
    "c2 = conversion(grados_c, 'celsius', 'kelvin')\n",
    "c3 = conversion(grados_f, 'farenheit', 'celsius')\n",
    "c4 = conversion(grados_f, 'farenheit', 'kelvin')\n",
    "c5 = conversion(grados_k, 'kelvin', 'celsius')\n",
    "c6 = conversion(grados_k, 'kelvin', 'farenheit')\n",
    "\n",
    "print (grados_c, 'grados celsius es equivalentes a', c1, 'grados farenheit')\n",
    "print (grados_c, 'grados celsius es equivalentes a', c2, 'grados kelvin')\n",
    "print (grados_f, 'grados farenheit es equivalentes a', c3, 'grados celsius')\n",
    "print (grados_f, 'grados farenheit es equivalentes a', c4, 'grados kelvin')\n",
    "print (grados_k, 'grados kelvin es equivalentes a', c5, 'grados celsius')\n",
    "print (grados_k, 'grados kelvin es equivalentes a', c6, 'grados farenheit')"
   ]
  },
  {
   "attachments": {},
   "cell_type": "markdown",
   "metadata": {},
   "source": [
    "6) Iterando una lista con los tres valores posibles de temperatura que recibe la función del punto 5, hacer un print para cada combinación de los mismos:"
   ]
  },
  {
   "cell_type": "code",
   "execution_count": 80,
   "metadata": {},
   "outputs": [
    {
     "name": "stdout",
     "output_type": "stream",
     "text": [
      "1 grado celsius a celsius : None\n",
      "1 grado celsius a kelvin : 274.1\n",
      "1 grado celsius a farenheit : 33.8\n",
      "1 grado kelvin a celsius : -272.1\n",
      "1 grado kelvin a kelvin : None\n",
      "1 grado kelvin a farenheit : -457.9\n",
      "1 grado farenheit a celsius : -17.2\n",
      "1 grado farenheit a kelvin : 255.9\n",
      "1 grado farenheit a farenheit : None\n"
     ]
    }
   ],
   "source": [
    "metricas = ['celsius', 'kelvin', 'farenheit']  # Lista de las unidades métricas\n",
    "\n",
    "for i in range(0, 3):  \n",
    "    for j in range(0, 3):  \n",
    "        print('1 grado', metricas[i], 'a', metricas[j], ':', conversion(1, metricas[i], metricas[j]))"
   ]
  },
  {
   "attachments": {},
   "cell_type": "markdown",
   "metadata": {},
   "source": [
    "7) Armar una función que devuelva el factorial de un número. Tener en cuenta que el usuario puede equivocarse y enviar de parámetro un número no entero o negativo"
   ]
  },
  {
   "cell_type": "code",
   "execution_count": 82,
   "metadata": {},
   "outputs": [
    {
     "name": "stdout",
     "output_type": "stream",
     "text": [
      "120\n",
      "el numero debe ser positivo\n",
      "el numero debe ser un entero\n",
      "el numero debe ser un entero\n"
     ]
    }
   ],
   "source": [
    "def factorial(num):\n",
    "    if type(num) != int:\n",
    "        return ('el numero debe ser un entero')\n",
    "    elif num < 0:\n",
    "        return ('el numero debe ser positivo')\n",
    "    elif num <= 1:\n",
    "        num = 1\n",
    "        return (1)\n",
    "    num = num * factorial(num - 1)\n",
    "    return num\n",
    "        \n",
    "print(factorial(5))\n",
    "print(factorial(-2))\n",
    "print(factorial(1.23))\n",
    "print(factorial('6'))\n"
   ]
  }
 ],
 "metadata": {
  "interpreter": {
   "hash": "c85384e4cb51c8b72350f3a8712cc8351fdc3955e32a27f9b60c6242ab125f01"
  },
  "kernelspec": {
   "display_name": "Python 3 (ipykernel)",
   "language": "python",
   "name": "python3"
  },
  "language_info": {
   "codemirror_mode": {
    "name": "ipython",
    "version": 3
   },
   "file_extension": ".py",
   "mimetype": "text/x-python",
   "name": "python",
   "nbconvert_exporter": "python",
   "pygments_lexer": "ipython3",
   "version": "3.11.4"
  }
 },
 "nbformat": 4,
 "nbformat_minor": 4
}
