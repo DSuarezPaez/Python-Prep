{
 "cells": [
  {
   "attachments": {},
   "cell_type": "markdown",
   "metadata": {},
   "source": [
    "## Clases y Programación Orientada a Objetos"
   ]
  },
  {
   "attachments": {},
   "cell_type": "markdown",
   "metadata": {},
   "source": [
    "1) Crear la clase vehículo que contenga los atributos:<br>\n",
    "Color<br>\n",
    "Si es moto, auto, camioneta ó camión<br>\n",
    "Cilindrada del motor"
   ]
  },
  {
   "cell_type": "code",
   "execution_count": 2,
   "metadata": {},
   "outputs": [],
   "source": [
    "class Vehiculo():\n",
    "   \n",
    "    def __init__(self, color, tipo, cilindrada):\n",
    "        self.color = color\n",
    "        self.tipo = tipo\n",
    "        self.cilindrada = cilindrada\n",
    "        self.velocidad = 0\n",
    "        self.direccion = 0\n"
   ]
  },
  {
   "attachments": {},
   "cell_type": "markdown",
   "metadata": {},
   "source": [
    "2) A la clase Vehiculo creada en el punto 1, agregar los siguientes métodos:<br>\n",
    "Acelerar<br>\n",
    "Frenar<br>\n",
    "Doblar<br>"
   ]
  },
  {
   "cell_type": "code",
   "execution_count": 3,
   "metadata": {},
   "outputs": [],
   "source": [
    "class Vehiculo():\n",
    "    def __init__(self, color, tipo, cilindrada):\n",
    "        self.color = color\n",
    "        self.tipo = tipo\n",
    "        self.cilindrada = cilindrada\n",
    "        self.velocidad = 0\n",
    "        self.direccion = 0\n",
    "\n",
    "    def Acelerar(self, velo):\n",
    "        self.velocidad += velo \n",
    "\n",
    "    def Frenar(self, velo):\n",
    "        self.velocidad -= velo\n",
    "\n",
    "    def Doblar(self, grados):\n",
    "        self.direccion += grados\n",
    "    def caracteristicas(self):\n",
    "        print('color:', self.color,'Tipo:', self.tipo, 'Cilindrada:',self.cilindrada)\n",
    "    def estado(self):\n",
    "        print('Velocidad:', self.velocidad, 'y Direccion:', self.direccion)"
   ]
  },
  {
   "attachments": {},
   "cell_type": "markdown",
   "metadata": {},
   "source": [
    "3) Instanciar 3 objetos de la clase vehículo y ejecutar sus métodos, probar luego el resultado"
   ]
  },
  {
   "cell_type": "code",
   "execution_count": 4,
   "metadata": {},
   "outputs": [],
   "source": [
    "a1 = Vehiculo('Negro', 'Camioneta', '6.000 CC')\n",
    "a1.Acelerar(50)\n",
    "a1.Frenar(20)\n",
    "a1.Doblar(45)\n",
    "\n",
    "a2 = Vehiculo('Rojo', 'Moto', '900 CC')\n",
    "a2.Acelerar(80)\n",
    "a2.Frenar(40)\n",
    "a2.Doblar(-45)\n",
    "\n",
    "a3 = Vehiculo('Amarillo', 'Camion', '5000 CC')\n",
    "a3.Acelerar(60)\n",
    "a3.Frenar(10)\n",
    "a3.Doblar(25)\n"
   ]
  },
  {
   "attachments": {},
   "cell_type": "markdown",
   "metadata": {},
   "source": [
    "4) Agregar a la clase Vehiculo, un método que muestre su estado, es decir, a que velocidad se encuentra y su dirección. Y otro método que muestre color, tipo y cilindrada"
   ]
  },
  {
   "cell_type": "code",
   "execution_count": 5,
   "metadata": {},
   "outputs": [
    {
     "name": "stdout",
     "output_type": "stream",
     "text": [
      "color: Negro Tipo: Camioneta Cilindrada: 6.000 CC\n",
      "Velocidad: 30 y Direccion: 45\n",
      "color: Rojo Tipo: Moto Cilindrada: 900 CC\n",
      "Velocidad: 40 y Direccion: -45\n",
      "color: Amarillo Tipo: Camion Cilindrada: 5000 CC\n",
      "Velocidad: 50 y Direccion: 25\n"
     ]
    }
   ],
   "source": [
    "a1.caracteristicas()\n",
    "a1.estado()\n",
    "a2.caracteristicas()\n",
    "a2.estado()\n",
    "a3.caracteristicas()\n",
    "a3.estado()"
   ]
  },
  {
   "attachments": {},
   "cell_type": "markdown",
   "metadata": {},
   "source": [
    "5) Crear una clase que permita utilizar las funciones creadas en la práctica del módulo 7<br>\n",
    "Verificar Primo<br>\n",
    "Valor modal<br>\n",
    "Conversión grados<br>\n",
    "Factorial<br>"
   ]
  },
  {
   "cell_type": "code",
   "execution_count": 38,
   "metadata": {},
   "outputs": [],
   "source": [
    "class Herramientas:\n",
    "    def __init__(self) -> None:\n",
    "        pass\n",
    "\n",
    "    def verifica_primo(self, nro):\n",
    "        es_primo = True\n",
    "        for i in range(2, nro):\n",
    "            if nro % i == 0:\n",
    "                es_primo = False\n",
    "                break\n",
    "        return es_primo\n",
    "\n",
    "    def valor_modal(self, lista, menor):\n",
    "        lista_unicos = []\n",
    "        lista_repeticiones = []\n",
    "        if len(lista) == 0:\n",
    "            return None\n",
    "        if (menor):\n",
    "            lista.sort()\n",
    "        else:\n",
    "            lista.sort(reverse=True)\n",
    "        for elemento in lista:\n",
    "            if elemento in lista_unicos:\n",
    "                i = lista_unicos.index(elemento)\n",
    "                lista_repeticiones[i] += 1\n",
    "            else:\n",
    "                lista_unicos.append(elemento)\n",
    "                lista_repeticiones.append(1)\n",
    "        moda = lista_unicos[0]\n",
    "        maximo = lista_repeticiones[0]\n",
    "        for i, elemento in enumerate(lista_unicos):\n",
    "            if lista_repeticiones[i] > maximo:\n",
    "                moda = lista_unicos[i]\n",
    "                maximo = lista_repeticiones[i]\n",
    "        return moda, maximo\n",
    "\n",
    "    def conversion_grados(self, valor, origen, destino):\n",
    "        valor_destino = None\n",
    "        if (origen == 'celsius'):\n",
    "            if (destino == 'celsius'):\n",
    "                valor_destino = valor\n",
    "            elif (destino == 'farenheit'):\n",
    "                valor_destino = (valor * 9 / 5) + 32\n",
    "            elif (destino == 'kelvin'):\n",
    "                valor_destino = valor + 273.15\n",
    "            else:\n",
    "                print('Parámetro de Destino incorrecto')\n",
    "        elif (origen == 'farenheit'):\n",
    "            if (destino == 'celsius'):\n",
    "                valor_destino = (valor - 32) * 5 / 9\n",
    "            elif (destino == 'farenheit'):\n",
    "                valor_destino = valor\n",
    "            elif (destino == 'kelvin'):\n",
    "                valor_destino = ((valor - 32) * 5 / 9) + 273.15\n",
    "            else:\n",
    "                print('Parámetro de Destino incorrecto')\n",
    "        elif (origen == 'kelvin'):\n",
    "            if (destino == 'celsius'):\n",
    "                valor_destino = valor - 273.15\n",
    "            elif (destino == 'farenheit'):\n",
    "                valor_destino = ((valor - 273.15) * 9 / 5) + 32\n",
    "            elif (destino == 'kelvin'):\n",
    "                valor_destino = valor\n",
    "            else:\n",
    "                print('Parámetro de Destino incorrecto')\n",
    "        else:\n",
    "            print('Parámetro de Origen incorrecto')\n",
    "        return valor_destino\n",
    "\n",
    "    def factorial(self, numero):\n",
    "        if(type(numero) != int):\n",
    "            return 'El numero debe ser un entero'\n",
    "        if(numero < 0):\n",
    "            return 'El numero debe ser pisitivo'\n",
    "        if (numero > 1):\n",
    "            numero = numero * self.factorial(numero - 1)\n",
    "        return numero\n",
    "\n"
   ]
  },
  {
   "attachments": {},
   "cell_type": "markdown",
   "metadata": {},
   "source": [
    "6) Probar las funciones incorporadas en la clase del punto 5"
   ]
  },
  {
   "cell_type": "code",
   "execution_count": 43,
   "metadata": {},
   "outputs": [
    {
     "data": {
      "text/plain": [
       "False"
      ]
     },
     "execution_count": 43,
     "metadata": {},
     "output_type": "execute_result"
    }
   ],
   "source": [
    "h = Herramientas()\n",
    "\n",
    "h.verifica_primo(9)"
   ]
  },
  {
   "cell_type": "code",
   "execution_count": 44,
   "metadata": {},
   "outputs": [
    {
     "data": {
      "text/plain": [
       "40320"
      ]
     },
     "execution_count": 44,
     "metadata": {},
     "output_type": "execute_result"
    }
   ],
   "source": [
    "h.factorial(8)"
   ]
  },
  {
   "cell_type": "code",
   "execution_count": 46,
   "metadata": {},
   "outputs": [
    {
     "name": "stdout",
     "output_type": "stream",
     "text": [
      "El valor modal es 9 y se reptie 4 veces\n"
     ]
    }
   ],
   "source": [
    "lista = [1,2,3,5,8,9,6,8,9,6,5,9,9,5]\n",
    "moda, repe = h.valor_modal(lista, True)\n",
    "print('El valor modal es', moda, 'y se reptie', repe, 'veces')\n"
   ]
  },
  {
   "cell_type": "code",
   "execution_count": 48,
   "metadata": {},
   "outputs": [
    {
     "data": {
      "text/plain": [
       "73.4"
      ]
     },
     "execution_count": 48,
     "metadata": {},
     "output_type": "execute_result"
    }
   ],
   "source": [
    "h.conversion_grados(23,'celsius', 'farenheit')"
   ]
  },
  {
   "attachments": {},
   "cell_type": "markdown",
   "metadata": {},
   "source": [
    "7) Es necesario que la clase creada en el punto 5 contenga una lista, sobre la cual se apliquen las funciones incorporadas"
   ]
  },
  {
   "cell_type": "code",
   "execution_count": 57,
   "metadata": {},
   "outputs": [],
   "source": [
    "class Herramientas:\n",
    "    def __init__(self, lista_numeros):\n",
    "        self.lista = lista_numeros\n",
    "\n",
    "    def verifica_primo(self):\n",
    "        for i in self.lista:\n",
    "            if (self.__verifica_primo(i)):\n",
    "                print('El elemento', i, 'SI es un numero primo')\n",
    "            else:\n",
    "                print('El elemento', i, 'NO es un numero primo')\n",
    "\n",
    "    def conversion_grados(self, origen, destino):\n",
    "        for i in self.lista:\n",
    "            print(i, 'grados', origen, 'son', self.__conversion_grados(i, origen, destino),'grados',destino)\n",
    "    \n",
    "    def factorial(self):\n",
    "        for i in self.lista:\n",
    "            print('El factorial de ', i, 'es', self.__factorial(i))\n",
    "\n",
    "    def __verifica_primo(self, nro):\n",
    "        es_primo = True\n",
    "        for i in range(2, nro):\n",
    "            if nro % i == 0:\n",
    "                es_primo = False\n",
    "                break\n",
    "        return es_primo\n",
    "\n",
    "    def valor_modal(self, menor):\n",
    "        lista_unicos = []\n",
    "        lista_repeticiones = []\n",
    "        if len(self.lista) == 0:\n",
    "            return None\n",
    "        if (menor):\n",
    "            self.lista.sort()\n",
    "        else:\n",
    "            self.lista.sort(reverse=True)\n",
    "        for elemento in self.lista:\n",
    "            if elemento in lista_unicos:\n",
    "                i = lista_unicos.index(elemento)\n",
    "                lista_repeticiones[i] += 1\n",
    "            else:\n",
    "                lista_unicos.append(elemento)\n",
    "                lista_repeticiones.append(1)\n",
    "        moda = lista_unicos[0]\n",
    "        maximo = lista_repeticiones[0]\n",
    "        for i, elemento in enumerate(lista_unicos):\n",
    "            if lista_repeticiones[i] > maximo:\n",
    "                moda = lista_unicos[i]\n",
    "                maximo = lista_repeticiones[i]\n",
    "        return moda, maximo\n",
    "\n",
    "    def __conversion_grados(self, valor, origen, destino):\n",
    "        valor_destino = None\n",
    "        if (origen == 'celsius'):\n",
    "            if (destino == 'celsius'):\n",
    "                valor_destino = valor\n",
    "            elif (destino == 'farenheit'):\n",
    "                valor_destino = (valor * 9 / 5) + 32\n",
    "            elif (destino == 'kelvin'):\n",
    "                valor_destino = valor + 273.15\n",
    "            else:\n",
    "                print('Parámetro de Destino incorrecto')\n",
    "        elif (origen == 'farenheit'):\n",
    "            if (destino == 'celsius'):\n",
    "                valor_destino = (valor - 32) * 5 / 9\n",
    "            elif (destino == 'farenheit'):\n",
    "                valor_destino = valor\n",
    "            elif (destino == 'kelvin'):\n",
    "                valor_destino = ((valor - 32) * 5 / 9) + 273.15\n",
    "            else:\n",
    "                print('Parámetro de Destino incorrecto')\n",
    "        elif (origen == 'kelvin'):\n",
    "            if (destino == 'celsius'):\n",
    "                valor_destino = valor - 273.15\n",
    "            elif (destino == 'farenheit'):\n",
    "                valor_destino = ((valor - 273.15) * 9 / 5) + 32\n",
    "            elif (destino == 'kelvin'):\n",
    "                valor_destino = valor\n",
    "            else:\n",
    "                print('Parámetro de Destino incorrecto')\n",
    "        else:\n",
    "            print('Parámetro de Origen incorrecto')\n",
    "        return valor_destino\n",
    "\n",
    "    def __factorial(self, numero):\n",
    "        if(type(numero) != int):\n",
    "            return 'El numero debe ser un entero'\n",
    "        if(numero < 0):\n",
    "            return 'El numero debe ser pisitivo'\n",
    "        if (numero > 1):\n",
    "            numero = numero * self.__factorial(numero - 1)\n",
    "        return numero\n",
    "    \n",
    "h = Herramientas([5,2,6,4,7,8,9,4,1,2,3,5,4,7,8,8,4,5,2,1,2,3])"
   ]
  },
  {
   "cell_type": "code",
   "execution_count": 58,
   "metadata": {},
   "outputs": [
    {
     "name": "stdout",
     "output_type": "stream",
     "text": [
      "5 grados celsius son 41.0 grados farenheit\n",
      "2 grados celsius son 35.6 grados farenheit\n",
      "6 grados celsius son 42.8 grados farenheit\n",
      "4 grados celsius son 39.2 grados farenheit\n",
      "7 grados celsius son 44.6 grados farenheit\n",
      "8 grados celsius son 46.4 grados farenheit\n",
      "9 grados celsius son 48.2 grados farenheit\n",
      "4 grados celsius son 39.2 grados farenheit\n",
      "1 grados celsius son 33.8 grados farenheit\n",
      "2 grados celsius son 35.6 grados farenheit\n",
      "3 grados celsius son 37.4 grados farenheit\n",
      "5 grados celsius son 41.0 grados farenheit\n",
      "4 grados celsius son 39.2 grados farenheit\n",
      "7 grados celsius son 44.6 grados farenheit\n",
      "8 grados celsius son 46.4 grados farenheit\n",
      "8 grados celsius son 46.4 grados farenheit\n",
      "4 grados celsius son 39.2 grados farenheit\n",
      "5 grados celsius son 41.0 grados farenheit\n",
      "2 grados celsius son 35.6 grados farenheit\n",
      "1 grados celsius son 33.8 grados farenheit\n",
      "2 grados celsius son 35.6 grados farenheit\n",
      "3 grados celsius son 37.4 grados farenheit\n"
     ]
    }
   ],
   "source": [
    "h.conversion_grados('celsius','farenheit')"
   ]
  },
  {
   "cell_type": "code",
   "execution_count": 61,
   "metadata": {},
   "outputs": [
    {
     "name": "stdout",
     "output_type": "stream",
     "text": [
      "El factorial de  5 es 120\n",
      "El factorial de  2 es 2\n",
      "El factorial de  6 es 720\n",
      "El factorial de  4 es 24\n",
      "El factorial de  7 es 5040\n",
      "El factorial de  8 es 40320\n",
      "El factorial de  9 es 362880\n",
      "El factorial de  4 es 24\n",
      "El factorial de  1 es 1\n",
      "El factorial de  2 es 2\n",
      "El factorial de  3 es 6\n",
      "El factorial de  5 es 120\n",
      "El factorial de  4 es 24\n",
      "El factorial de  7 es 5040\n",
      "El factorial de  8 es 40320\n",
      "El factorial de  8 es 40320\n",
      "El factorial de  4 es 24\n",
      "El factorial de  5 es 120\n",
      "El factorial de  2 es 2\n",
      "El factorial de  1 es 1\n",
      "El factorial de  2 es 2\n",
      "El factorial de  3 es 6\n"
     ]
    }
   ],
   "source": [
    "h.factorial()"
   ]
  },
  {
   "attachments": {},
   "cell_type": "markdown",
   "metadata": {},
   "source": [
    "8) Crear un archivo .py aparte y ubicar allí la clase generada en el punto anterior. Luego realizar la importación del módulo y probar alguna de sus funciones"
   ]
  },
  {
   "cell_type": "code",
   "execution_count": 7,
   "metadata": {},
   "outputs": [],
   "source": [
    "import sys\n",
    "sys.path.append(r'C:\\Users\\EQUIPO\\Desktop\\curso prepar henry')\n",
    "from mi_moi import *"
   ]
  },
  {
   "cell_type": "code",
   "execution_count": 8,
   "metadata": {},
   "outputs": [
    {
     "name": "stdout",
     "output_type": "stream",
     "text": [
      "El elemento 21 NO es un numero primo\n",
      "El elemento 32 NO es un numero primo\n",
      "El elemento 65 NO es un numero primo\n",
      "El elemento 54 NO es un numero primo\n",
      "El elemento 87 NO es un numero primo\n",
      "El elemento 98 NO es un numero primo\n",
      "El elemento 45 NO es un numero primo\n",
      "El elemento 78 NO es un numero primo\n",
      "El elemento 89 SI es un numero primo\n",
      "El elemento 56 NO es un numero primo\n",
      "El elemento 12 NO es un numero primo\n",
      "El elemento 23 SI es un numero primo\n",
      "El elemento 56 NO es un numero primo\n",
      "El elemento 45 NO es un numero primo\n",
      "El elemento 78 NO es un numero primo\n"
     ]
    }
   ],
   "source": [
    "h2 = Herramientas([21,32,65,54,87,98,45,78,89,56,12,23,56,45,78])\n",
    "h2.verifica_primo()"
   ]
  }
 ],
 "metadata": {
  "interpreter": {
   "hash": "c85384e4cb51c8b72350f3a8712cc8351fdc3955e32a27f9b60c6242ab125f01"
  },
  "kernelspec": {
   "display_name": "Python 3 (ipykernel)",
   "language": "python",
   "name": "python3"
  },
  "language_info": {
   "codemirror_mode": {
    "name": "ipython",
    "version": 3
   },
   "file_extension": ".py",
   "mimetype": "text/x-python",
   "name": "python",
   "nbconvert_exporter": "python",
   "pygments_lexer": "ipython3",
   "version": "3.11.4"
  }
 },
 "nbformat": 4,
 "nbformat_minor": 4
}
